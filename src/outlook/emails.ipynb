{
 "cells": [
  {
   "cell_type": "code",
   "execution_count": 38,
   "metadata": {},
   "outputs": [],
   "source": [
    "%load_ext autoreload\n",
    "%autoreload 2"
   ]
  },
  {
   "cell_type": "code",
   "execution_count": 39,
   "metadata": {},
   "outputs": [],
   "source": [
    "from pathlib import Path\n",
    "import datetime\n",
    "import re\n",
    "import win32com.client  #pip install pywin32\n",
    "from generate_emails import *\n",
    "from datetime import datetime, timedelta\n",
    "import random\n",
    "import json\n"
   ]
  },
  {
   "cell_type": "markdown",
   "metadata": {},
   "source": [
    "## Generate random dates for the synthetic emails"
   ]
  },
  {
   "cell_type": "code",
   "execution_count": 13,
   "metadata": {},
   "outputs": [
    {
     "name": "stdout",
     "output_type": "stream",
     "text": [
      "2024-05-02 11:40:12.181096\n",
      "2024-04-30 04:29:06.181096\n",
      "2024-05-02 03:37:44.181096\n",
      "2024-04-28 08:35:30.181096\n",
      "2024-04-27 20:59:54.181096\n",
      "2024-05-04 02:31:40.181096\n",
      "2024-04-28 17:09:54.181096\n",
      "2024-04-28 12:35:48.181096\n",
      "2024-05-02 07:18:52.181096\n",
      "2024-05-01 15:35:33.181096\n"
     ]
    }
   ],
   "source": [
    "# Set the range of the past week\n",
    "start_date = datetime.now() - timedelta(days=7)\n",
    "end_date = datetime.now()\n",
    "\n",
    "# Generate random datetime objects within the range\n",
    "random_dates = []\n",
    "for _ in range(10):  # Generate 10 random datetime objects\n",
    "    random_date = start_date + timedelta(seconds=random.randint(0, int((end_date - start_date).total_seconds())))\n",
    "    random_dates.append(random_date)\n",
    "\n",
    "# Print the generated random datetime objects\n",
    "for date in random_dates:\n",
    "    print(date)"
   ]
  },
  {
   "cell_type": "code",
   "execution_count": null,
   "metadata": {},
   "outputs": [],
   "source": [
    "email_threads_topics = [\"Developing Markets\", \"eFx\", \"US Equity Markets\", \"Fixed Income\"]\n",
    "authors = [\"JP Morgan\", \"Goldman Sachs\", \"Morgan Stanley\", \"Bank of America\"]\n",
    "emails = [\"jpmorgan@upc.edu\", \"goldmansachs@upc.edu\", \"morganstanley@upc.edu\", \"boa@upc.edu\"]\n",
    "\n",
    "recipients = [\"hackupc-test@outlook.com\"]\n",
    "\n",
    "email_count = 0\n",
    "num_emails = 2\n",
    "\n",
    "message_list = []"
   ]
  },
  {
   "cell_type": "code",
   "execution_count": 45,
   "metadata": {},
   "outputs": [
    {
     "name": "stdout",
     "output_type": "stream",
     "text": [
      "API key found in environment variables.\n"
     ]
    }
   ],
   "source": [
    "\n",
    "for j in range(len(authors)):\n",
    "    for topic in email_threads_topics:\n",
    "\n",
    "        message = {}\n",
    "        message['email_date'] = random_dates[email_count%len(random_dates)]\n",
    "        message['sender'] = emails[j]\n",
    "        message['recipient'] = recipients[0]\n",
    "        message['subject'] = f\"{authors[j]}: {topic} Update and Trading Ideas\"\n",
    "        message['email_id'] = email_count\n",
    "\n",
    "\n",
    "        message['text'] = generate_email_body(topic, authors[j], previous_emails=None)\n",
    "\n",
    "        #save_mbox(thread, f\"./emails/{topic.replace(' ', '_').lower()}.txt\")\n",
    "\n",
    "        email_count += 1\n",
    "        message_list.append(message)\n",
    "\n",
    "\n",
    "input_dir = Path.cwd() / \"Input\"\n",
    "with open(input_dir / \"emails.json\", \"w\") as f:\n",
    "    json.dump(message_list, f, indent=4, default=str)"
   ]
  },
  {
   "cell_type": "markdown",
   "metadata": {},
   "source": [
    "## Populate the emails in the inbox"
   ]
  },
  {
   "cell_type": "code",
   "execution_count": 49,
   "metadata": {},
   "outputs": [],
   "source": [
    "# Get the hackupc-test@outlook.com account\n",
    "account = None\n",
    "\n",
    "outlook = win32com.client.Dispatch(\"Outlook.Application\")\n",
    "namespace = outlook.GetNamespace(\"MAPI\")\n",
    "\n",
    "for acc in namespace.Accounts:\n",
    "    if acc.DisplayName == 'hackupc-test@outlook.com':\n",
    "        account = acc\n",
    "        break\n",
    "\n",
    "if account is None:\n",
    "    print(\"Hackupc account not found.\")\n",
    "else:\n",
    "    # Iterate over the message_list and send emails\n",
    "    for message in message_list:\n",
    "        mail = outlook.CreateItem(0)  # Create a new email\n",
    "        mail.Subject = message['subject']\n",
    "        mail.Body = message['text']\n",
    "        mail.To = message['recipient']\n",
    "        mail.SendUsingAccount = account  # Set the account to use for sending\n",
    "        mail.Send()\n"
   ]
  },
  {
   "cell_type": "markdown",
   "metadata": {},
   "source": [
    "## Parse the emails from the Outlook Inbox"
   ]
  },
  {
   "cell_type": "code",
   "execution_count": 50,
   "metadata": {},
   "outputs": [],
   "source": [
    "\n",
    "\n",
    "# Create output folder\n",
    "output_dir = Path.cwd() / \"Output\"\n",
    "output_dir.mkdir(parents=True, exist_ok=True)\n",
    "\n",
    "# Connect to outlook\n",
    "outlook = win32com.client.Dispatch(\"Outlook.Application\").GetNamespace(\"MAPI\")\n",
    "\n",
    "# Connect to folder\n",
    "#inbox = outlook.Folders('arvind.menon@epfl.ch').Folders('Inbox')\n",
    "inbox = outlook.Folders('hackupc-test@outlook.com').Folders('Inbox')\n",
    "# inbox = outlook.GetDefaultFolder(6)\n",
    "\n",
    "# https://docs.microsoft.com/en-us/office/vba/api/outlook.oldefaultfolders\n",
    "# DeletedItems=3, Outbox=4, SentMail=5, Inbox=6, Drafts=16, FolderJunk=23\n",
    "\n",
    "# Get messages\n",
    "messages = inbox.Items\n",
    "\n",
    "list_of_messages = []\n",
    "\n",
    "for message in messages:\n",
    "    subject = message.Subject\n",
    "    body = message.body\n",
    "    # attachments = message.Attachments\n",
    "    recipients = message.Recipients\n",
    "    sender = message.Sender\n",
    "    date = message.SentOn\n",
    "    entry_id = message.EntryID\n",
    "    # Create separate folder for each message, exclude special characters and timestampe\n",
    "\n",
    "    msg = dict()\n",
    "    msg[\"subject\"] = getattr(message, \"Subject\", \"<UNKNOWN>\")\n",
    "    msg[\"recipient\"] = [r.Name for r in message.Recipients]\n",
    "    \n",
    "    msg[\"email_date\"] = getattr(message, \"SentOn\", \"<UNKNOWN>\")\n",
    "    msg[\"email_id\"] = getattr(message, \"EntryID\", \"<UNKNOWN>\")\n",
    "    msg[\"sender\"] = getattr(message, \"Sender\", \"<UNKNOWN>\")\n",
    "    #msg[\"Size\"] = getattr(message, \"Size\", \"<UNKNOWN>\")\n",
    "    msg[\"text\"] = getattr(message, \"Body\", \"<UNKNOWN>\")\n",
    "\n",
    "    list_of_messages.append(msg)\n",
    "\n",
    "import json\n",
    "with open(output_dir / \"emails.json\", \"w\") as f:\n",
    "    json.dump(list_of_messages, f, indent=4, default=str)"
   ]
  },
  {
   "cell_type": "markdown",
   "metadata": {},
   "source": [
    "## Print the extracted elements from the inbox"
   ]
  },
  {
   "cell_type": "code",
   "execution_count": 52,
   "metadata": {},
   "outputs": [
    {
     "name": "stdout",
     "output_type": "stream",
     "text": [
      "2024-05-04 18:51:55+00:00 Bank of America: Fixed Income Update and Trading Ideas ['hackupc-test@outlook.com']\n",
      "2024-05-04 19:05:32+00:00 JP Morgan: Developing Markets Update and Trading Ideas ['hackupc-test@outlook.com']\n",
      "2024-05-04 19:05:33+00:00 JP Morgan: US Equity Markets Update and Trading Ideas ['hackupc-test@outlook.com']\n",
      "2024-05-04 19:05:33+00:00 JP Morgan: eFx Update and Trading Ideas ['hackupc-test@outlook.com']\n",
      "2024-05-04 19:05:34+00:00 JP Morgan: Fixed Income Update and Trading Ideas ['hackupc-test@outlook.com']\n"
     ]
    }
   ],
   "source": [
    "def extract(count):\n",
    "    \"\"\"Get emails from outlook.\"\"\"\n",
    "    items = []\n",
    "    outlook = win32com.client.Dispatch(\"Outlook.Application\").GetNamespace(\"MAPI\")\n",
    "    inbox = outlook.Folders('hackupc-test@outlook.com').Folders('Inbox')\n",
    "    messages = inbox.Items\n",
    "    message = messages.GetFirst()\n",
    "    i = 0\n",
    "    while message:\n",
    "        try:\n",
    "            msg = dict()\n",
    "            msg[\"Subject\"] = getattr(message, \"Subject\", \"<UNKNOWN>\")\n",
    "            msg[\"Recipients\"] = [r.Name for r in message.Recipients]\n",
    "            \n",
    "            msg[\"SentOn\"] = getattr(message, \"SentOn\", \"<UNKNOWN>\")\n",
    "            msg[\"EntryID\"] = getattr(message, \"EntryID\", \"<UNKNOWN>\")\n",
    "            msg[\"Sender\"] = getattr(message, \"Sender\", \"<UNKNOWN>\")\n",
    "            msg[\"Size\"] = getattr(message, \"Size\", \"<UNKNOWN>\")\n",
    "            msg[\"Body\"] = getattr(message, \"Body\", \"<UNKNOWN>\")\n",
    "            items.append(msg)\n",
    "        except Exception as ex:\n",
    "            print(\"Error processing mail\", ex)\n",
    "        i += 1\n",
    "        if i < count:\n",
    "            message = messages.GetNext()\n",
    "        else:\n",
    "            return items\n",
    "\n",
    "    return items\n",
    "\n",
    "def show_message(items):\n",
    "    \"\"\"Show the messages.\"\"\"\n",
    "    items.sort(key=lambda tup: tup[\"SentOn\"])\n",
    "    for i in items:\n",
    "        print(i[\"SentOn\"], i[\"Subject\"], i[\"Recipients\"])\n",
    "\n",
    "\n",
    "def main():\n",
    "    \"\"\"Fetch and display top message.\"\"\"\n",
    "    items = extract(5)\n",
    "    show_message(items)\n",
    "\n",
    "\n",
    "if __name__ == \"__main__\":\n",
    "    main()"
   ]
  }
 ],
 "metadata": {
  "kernelspec": {
   "display_name": "adaexam",
   "language": "python",
   "name": "python3"
  },
  "language_info": {
   "codemirror_mode": {
    "name": "ipython",
    "version": 3
   },
   "file_extension": ".py",
   "mimetype": "text/x-python",
   "name": "python",
   "nbconvert_exporter": "python",
   "pygments_lexer": "ipython3",
   "version": "3.10.12"
  }
 },
 "nbformat": 4,
 "nbformat_minor": 2
}
