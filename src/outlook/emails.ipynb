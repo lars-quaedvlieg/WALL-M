{
 "cells": [
  {
   "cell_type": "code",
   "execution_count": 26,
   "metadata": {},
   "outputs": [
    {
     "name": "stdout",
     "output_type": "stream",
     "text": [
      "The autoreload extension is already loaded. To reload it, use:\n",
      "  %reload_ext autoreload\n"
     ]
    }
   ],
   "source": [
    "%load_ext autoreload\n",
    "%autoreload 2"
   ]
  },
  {
   "cell_type": "code",
   "execution_count": 27,
   "metadata": {},
   "outputs": [],
   "source": [
    "from pathlib import Path\n",
    "import datetime\n",
    "import re\n",
    "import win32com.client  #pip install pywin32\n",
    "from generate_emails import *\n",
    "from datetime import datetime, timedelta\n",
    "import random\n",
    "import json\n"
   ]
  },
  {
   "cell_type": "markdown",
   "metadata": {},
   "source": [
    "## Generate random dates for the synthetic emails"
   ]
  },
  {
   "cell_type": "code",
   "execution_count": 21,
   "metadata": {},
   "outputs": [
    {
     "name": "stdout",
     "output_type": "stream",
     "text": [
      "2024-05-01 16:43:41.941671\n",
      "2024-05-02 01:44:53.941671\n",
      "2024-05-01 01:00:43.941671\n",
      "2024-05-02 09:49:51.941671\n",
      "2024-05-01 14:12:14.941671\n",
      "2024-04-30 07:27:49.941671\n",
      "2024-05-04 20:59:08.941671\n",
      "2024-05-01 16:26:09.941671\n",
      "2024-05-04 14:02:50.941671\n",
      "2024-05-01 02:20:31.941671\n",
      "2024-05-01 06:16:53.941671\n",
      "2024-05-04 01:17:34.941671\n",
      "2024-04-29 13:43:10.941671\n",
      "2024-05-02 12:01:00.941671\n",
      "2024-05-05 01:29:16.941671\n",
      "2024-05-01 21:42:25.941671\n",
      "2024-04-29 04:24:59.941671\n",
      "2024-05-04 11:56:57.941671\n",
      "2024-04-28 16:28:32.941671\n",
      "2024-05-02 22:13:23.941671\n"
     ]
    }
   ],
   "source": [
    "\n",
    "\n",
    "def generate_dates(num_of_dates):\n",
    "    \n",
    "    # Set the range of the past week\n",
    "    start_date = datetime.now() - timedelta(days=7)\n",
    "    end_date = datetime.now()\n",
    "\n",
    "    # Generate random datetime objects within the range\n",
    "    random_dates = []\n",
    "\n",
    "    for _ in range(num_of_dates):  # Generate 10 random datetime objects\n",
    "        random_date = start_date + timedelta(seconds=random.randint(0, int((end_date - start_date).total_seconds())))\n",
    "        random_dates.append(random_date)\n",
    "\n",
    "    # Print the generated random datetime objects\n",
    "    for date in random_dates:\n",
    "        print(date)\n",
    "\n",
    "    return random_dates\n",
    "\n",
    "random_dates = generate_dates(20)"
   ]
  },
  {
   "cell_type": "code",
   "execution_count": 4,
   "metadata": {},
   "outputs": [
    {
     "name": "stdout",
     "output_type": "stream",
     "text": [
      "Conversation saved to travel_plans_conversation.json\n"
     ]
    }
   ],
   "source": [
    "import json\n",
    "\n",
    "# Conversation between Alice and Bob\n",
    "conversation = [\n",
    "    {\n",
    "        \"sender\": \"Alice\",\n",
    "        \"message\": \"Hey Bob! I'm super excited about the upcoming hackathon, HackUPC! Are you still up for going to Barcelona with me?\"\n",
    "    },\n",
    "    {\n",
    "        \"sender\": \"Bob\",\n",
    "        \"message\": \"Hey Alice! Absolutely, I've been looking forward to it! When are we planning to head to Barcelona?\"\n",
    "    },\n",
    "    {\n",
    "        \"sender\": \"Alice\",\n",
    "        \"message\": \"Great! I was thinking we could fly in a day before the hackathon starts. How does that sound to you?\"\n",
    "    },\n",
    "    {\n",
    "        \"sender\": \"Bob\",\n",
    "        \"message\": \"That sounds perfect to me. We can use that extra day to explore the city and get a feel for the surroundings. Do you have any preferences for accommodation?\"\n",
    "    },\n",
    "    {\n",
    "        \"sender\": \"Alice\",\n",
    "        \"message\": \"I was thinking of booking an Airbnb near the venue. It would be convenient for us and save us some travel time. What do you think?\"\n",
    "    },\n",
    "    {\n",
    "        \"sender\": \"Bob\",\n",
    "        \"message\": \"That's a good idea. It'll be nice to have our own space during the hackathon. Let's go ahead and book it. Have you looked into flights yet?\"\n",
    "    },\n",
    "    {\n",
    "        \"sender\": \"Alice\",\n",
    "        \"message\": \"Not yet, but I'll check for flights today and let you know. We should book them as soon as possible to get good deals. Also, do you have any dietary preferences I should keep in mind?\"\n",
    "    },\n",
    "    {\n",
    "        \"sender\": \"Bob\",\n",
    "        \"message\": \"I'm pretty flexible with food, but thanks for asking. Let's make sure to try some authentic Spanish cuisine while we're there! I'm getting excited just thinking about it.\"\n",
    "    },\n",
    "    {\n",
    "        \"sender\": \"Alice\",\n",
    "        \"message\": \"Me too! It's going to be an amazing experience. I'll send you the flight options as soon as I find them. Anything else we need to plan before the trip?\"\n",
    "    },\n",
    "    {\n",
    "        \"sender\": \"Bob\",\n",
    "        \"message\": \"I think we've covered everything for now. If anything else comes up, we can discuss it later. Thanks for taking the lead on planning, Alice. You're the best!\"\n",
    "    },\n",
    "    {\n",
    "        \"sender\": \"Alice\",\n",
    "        \"message\": \"No problem, Bob! We make a great team. Get ready for an awesome hackathon and an unforgettable trip to Barcelona!\"\n",
    "    }\n",
    "]\n",
    "\n",
    "# Output the conversation in JSON format\n",
    "with open(\"./Input/threads.json\", \"w\") as file:\n",
    "    json.dump(conversation, file, indent=4)\n",
    "\n",
    "print(\"Conversation saved to travel_plans_conversation.json\")"
   ]
  },
  {
   "cell_type": "code",
   "execution_count": 11,
   "metadata": {},
   "outputs": [],
   "source": [
    "email_threads_topics = [\"Developing Markets\", \"eFx\", \"US Equity Markets\", \"Fixed Income\",\"Commodities\"]\n",
    "authors = [\"JP Morgan\", \"Goldman Sachs\", \"Morgan Stanley\", \"Bank of America\"]\n",
    "emails = [\"jpmorgan@upc.edu\", \"goldmansachs@upc.edu\", \"morganstanley@upc.edu\", \"boa@upc.edu\"]\n",
    "\n",
    "recipients = [\"hackupc-test@outlook.com\"]\n",
    "\n",
    "email_count = 0\n",
    "num_emails = 2\n",
    "\n"
   ]
  },
  {
   "cell_type": "code",
   "execution_count": 12,
   "metadata": {},
   "outputs": [],
   "source": [
    "\n",
    "message_list = []\n",
    "\n",
    "for j in range(len(authors)):\n",
    "    for topic in email_threads_topics:\n",
    "\n",
    "        message = {}\n",
    "        message['email_date'] = random_dates[email_count%len(random_dates)]\n",
    "        message['sender'] = emails[j]\n",
    "        message['recipient'] = recipients[0]\n",
    "        message['subject'] = f\"{authors[j]}: {topic} Update and Trading Ideas\"\n",
    "        message['email_id'] = email_count\n",
    "\n",
    "\n",
    "        message['text'] = generate_email_body(topic, authors[j], previous_emails=None)\n",
    "\n",
    "        #save_mbox(thread, f\"./emails/{topic.replace(' ', '_').lower()}.txt\")\n",
    "\n",
    "        email_count += 1\n",
    "        message_list.append(message)\n",
    "\n",
    "\n",
    "input_dir = Path.cwd() / \"Input\"\n",
    "with open(input_dir / \"emails.json\", \"w\") as f:\n",
    "    json.dump(message_list, f, indent=4, default=str)"
   ]
  },
  {
   "cell_type": "markdown",
   "metadata": {},
   "source": [
    "## Populate the emails in the inbox"
   ]
  },
  {
   "cell_type": "code",
   "execution_count": 13,
   "metadata": {},
   "outputs": [],
   "source": [
    "# Get the hackupc-test@outlook.com account\n",
    "account = None\n",
    "\n",
    "outlook = win32com.client.Dispatch(\"Outlook.Application\")\n",
    "namespace = outlook.GetNamespace(\"MAPI\")\n",
    "\n",
    "for acc in namespace.Accounts:\n",
    "    if acc.DisplayName == 'hackupc-test@outlook.com':\n",
    "        account = acc\n",
    "        break\n",
    "\n",
    "if account is None:\n",
    "    print(\"Hackupc account not found.\")\n",
    "else:\n",
    "    # Iterate over the message_list and send emails\n",
    "    for message in message_list:\n",
    "        mail = outlook.CreateItem(0)  # Create a new email\n",
    "        mail.Subject = message['subject']\n",
    "        mail.Body = message['text']\n",
    "        mail.To = message['recipient']\n",
    "        mail.SendUsingAccount = account  # Set the account to use for sending\n",
    "        mail.Send()\n"
   ]
  },
  {
   "cell_type": "markdown",
   "metadata": {},
   "source": [
    "## Parse the emails from the Outlook Inbox"
   ]
  },
  {
   "cell_type": "code",
   "execution_count": 18,
   "metadata": {},
   "outputs": [],
   "source": [
    "\n",
    "\n",
    "# Create output folder\n",
    "output_dir = Path.cwd() / \"Output\"\n",
    "output_dir.mkdir(parents=True, exist_ok=True)\n",
    "\n",
    "# Connect to outlook\n",
    "outlook = win32com.client.Dispatch(\"Outlook.Application\").GetNamespace(\"MAPI\")\n",
    "\n",
    "# Connect to folder\n",
    "#inbox = outlook.Folders('arvind.menon@epfl.ch').Folders('Inbox')\n",
    "inbox = outlook.Folders('hackupc-test@outlook.com').Folders('Inbox')\n",
    "# inbox = outlook.GetDefaultFolder(6)\n",
    "\n",
    "# https://docs.microsoft.com/en-us/office/vba/api/outlook.oldefaultfolders\n",
    "# DeletedItems=3, Outbox=4, SentMail=5, Inbox=6, Drafts=16, FolderJunk=23\n",
    "\n",
    "# Get messages\n",
    "messages = inbox.Items\n",
    "\n",
    "list_of_messages = []\n",
    "\n",
    "for message in messages:\n",
    "    subject = message.Subject\n",
    "    body = message.body\n",
    "    # attachments = message.Attachments\n",
    "    recipients = message.Recipients\n",
    "    sender = message.Sender\n",
    "    date = message.SentOn\n",
    "    entry_id = message.EntryID\n",
    "    # Create separate folder for each message, exclude special characters and timestampe\n",
    "\n",
    "    msg = dict()\n",
    "    msg[\"subject\"] = getattr(message, \"Subject\", \"<UNKNOWN>\")\n",
    "    msg[\"recipient\"] = [r.Name for r in message.Recipients]\n",
    "    \n",
    "    msg[\"email_date\"] = getattr(message, \"SentOn\", \"<UNKNOWN>\")\n",
    "    msg[\"email_id\"] = getattr(message, \"EntryID\", \"<UNKNOWN>\")\n",
    "    msg[\"sender\"] = getattr(message, \"Sender\", \"<UNKNOWN>\")\n",
    "    #msg[\"Size\"] = getattr(message, \"Size\", \"<UNKNOWN>\")\n",
    "    msg[\"text\"] = getattr(message, \"Body\", \"<UNKNOWN>\")\n",
    "\n",
    "    list_of_messages.append(msg)\n",
    "\n",
    "import json\n",
    "with open(output_dir / \"emails_wthread.json\", \"w\") as f:\n",
    "    json.dump(list_of_messages, f, indent=4, default=str)"
   ]
  },
  {
   "cell_type": "markdown",
   "metadata": {},
   "source": [
    "## Print the extracted elements from the inbox"
   ]
  },
  {
   "cell_type": "code",
   "execution_count": 17,
   "metadata": {},
   "outputs": [
    {
     "name": "stdout",
     "output_type": "stream",
     "text": [
      "API key found in environment variables.\n",
      "2024-05-04 23:28:01+00:00 JP Morgan: Developing Markets Update and Trading Ideas ['hackupc-test@outlook.com']\n",
      "2024-05-04 23:28:04+00:00 Goldman Sachs: US Equity Markets Update and Trading Ideas ['hackupc-test@outlook.com']\n",
      "2024-05-04 23:28:06+00:00 Morgan Stanley: US Equity Markets Update and Trading Ideas ['hackupc-test@outlook.com']\n",
      "2024-05-04 23:28:07+00:00 Morgan Stanley: Commodities Update and Trading Ideas ['hackupc-test@outlook.com']\n",
      "2024-05-04 23:28:08+00:00 Bank of America: US Equity Markets Update and Trading Ideas ['hackupc-test@outlook.com']\n"
     ]
    }
   ],
   "source": [
    "def extract(count):\n",
    "    \"\"\"Get emails from outlook.\"\"\"\n",
    "    items = []\n",
    "    outlook = win32com.client.Dispatch(\"Outlook.Application\").GetNamespace(\"MAPI\")\n",
    "    inbox = outlook.Folders('hackupc-test@outlook.com').Folders('Inbox')\n",
    "    messages = inbox.Items\n",
    "    message = messages.GetFirst()\n",
    "    i = 0\n",
    "    while message:\n",
    "        try:\n",
    "            msg = dict()\n",
    "            msg[\"Subject\"] = getattr(message, \"Subject\", \"<UNKNOWN>\")\n",
    "            msg[\"Recipients\"] = [r.Name for r in message.Recipients]\n",
    "            \n",
    "            msg[\"SentOn\"] = getattr(message, \"SentOn\", \"<UNKNOWN>\")\n",
    "            msg[\"EntryID\"] = getattr(message, \"EntryID\", \"<UNKNOWN>\")\n",
    "            msg[\"Sender\"] = getattr(message, \"Sender\", \"<UNKNOWN>\")\n",
    "            msg[\"Size\"] = getattr(message, \"Size\", \"<UNKNOWN>\")\n",
    "            msg[\"Body\"] = getattr(message, \"Body\", \"<UNKNOWN>\")\n",
    "            items.append(msg)\n",
    "        except Exception as ex:\n",
    "            print(\"Error processing mail\", ex)\n",
    "        i += 1\n",
    "        if i < count:\n",
    "            message = messages.GetNext()\n",
    "        else:\n",
    "            return items\n",
    "\n",
    "    return items\n",
    "\n",
    "def show_message(items):\n",
    "    \"\"\"Show the messages.\"\"\"\n",
    "    items.sort(key=lambda tup: tup[\"SentOn\"])\n",
    "    for i in items:\n",
    "        print(i[\"SentOn\"], i[\"Subject\"], i[\"Recipients\"])\n",
    "\n",
    "\n",
    "def main():\n",
    "    \"\"\"Fetch and display top message.\"\"\"\n",
    "    items = extract(5)\n",
    "    show_message(items)\n",
    "\n",
    "\n",
    "if __name__ == \"__main__\":\n",
    "    main()"
   ]
  },
  {
   "cell_type": "markdown",
   "metadata": {},
   "source": [
    "## Generate a thread using the conversation JSON"
   ]
  },
  {
   "cell_type": "code",
   "execution_count": 14,
   "metadata": {},
   "outputs": [
    {
     "name": "stdout",
     "output_type": "stream",
     "text": [
      "[{'sender': 'Alice', 'message': \"Hey Bob! I'm super excited about the upcoming hackathon, HackUPC! Are you still up for going to Barcelona with me?\"}, {'sender': 'Bob', 'message': \"Hey Alice! Absolutely, I've been looking forward to it! When are we planning to head to Barcelona?\"}, {'sender': 'Alice', 'message': 'Great! I was thinking we could fly in a day before the hackathon starts. How does that sound to you?'}, {'sender': 'Bob', 'message': 'That sounds perfect to me. We can use that extra day to explore the city and get a feel for the surroundings. Do you have any preferences for accommodation?'}, {'sender': 'Alice', 'message': 'I was thinking of booking an Airbnb near the venue. It would be convenient for us and save us some travel time. What do you think?'}, {'sender': 'Bob', 'message': \"That's a good idea. It'll be nice to have our own space during the hackathon. Let's go ahead and book it. Have you looked into flights yet?\"}, {'sender': 'Alice', 'message': \"Not yet, but I'll check for flights today and let you know. We should book them as soon as possible to get good deals. Also, do you have any dietary preferences I should keep in mind?\"}, {'sender': 'Bob', 'message': \"I'm pretty flexible with food, but thanks for asking. Let's make sure to try some authentic Spanish cuisine while we're there! I'm getting excited just thinking about it.\"}, {'sender': 'Alice', 'message': \"Me too! It's going to be an amazing experience. I'll send you the flight options as soon as I find them. Anything else we need to plan before the trip?\"}, {'sender': 'Bob', 'message': \"I think we've covered everything for now. If anything else comes up, we can discuss it later. Thanks for taking the lead on planning, Alice. You're the best!\"}, {'sender': 'Alice', 'message': 'No problem, Bob! We make a great team. Get ready for an awesome hackathon and an unforgettable trip to Barcelona!'}]\n"
     ]
    }
   ],
   "source": [
    "# load a json\n",
    "\n",
    "with open(\"./Input/threads.json\", \"r\") as file:\n",
    "    conversation = json.load(file)\n",
    "\n",
    "print(conversation)"
   ]
  },
  {
   "cell_type": "code",
   "execution_count": 16,
   "metadata": {},
   "outputs": [],
   "source": [
    "import win32com.client as win32\n",
    "import json\n",
    "\n",
    "# Get the hackupc-test@outlook.com account\n",
    "account = None\n",
    "\n",
    "outlook = win32com.client.Dispatch(\"Outlook.Application\")\n",
    "namespace = outlook.GetNamespace(\"MAPI\")\n",
    "\n",
    "for acc in namespace.Accounts:\n",
    "    if acc.DisplayName == 'hackupc-test@outlook.com':\n",
    "        account = acc\n",
    "        break\n",
    "\n",
    "recipient_email = 'hackupc-test@outlook.com'\n",
    "if account is None:\n",
    "    print(\"Hackupc account not found.\")\n",
    "else:\n",
    "    # Iterate over the message_list and send emails\n",
    "    for message in conversation:\n",
    "        mail = outlook.CreateItem(0)  # Create a new email\n",
    "        mail.Subject = \"Conversation about HackUPC Travel Plans\"\n",
    "        mail.Body = message[\"message\"]\n",
    "        mail.To = recipient_email\n",
    "        mail.SendUsingAccount = account  # Set the account to use for sending\n",
    "        mail.Send()\n"
   ]
  },
  {
   "cell_type": "code",
   "execution_count": 11,
   "metadata": {},
   "outputs": [
    {
     "name": "stdout",
     "output_type": "stream",
     "text": [
      "arvind.menon@epfl.ch\n",
      "hackupc-test@outlook.com\n"
     ]
    }
   ],
   "source": [
    "for i in outlook.Session.Accounts:\n",
    "\n",
    "    print(i)"
   ]
  },
  {
   "cell_type": "markdown",
   "metadata": {},
   "source": [
    "## Generate unstructed work email threads"
   ]
  },
  {
   "cell_type": "code",
   "execution_count": 36,
   "metadata": {},
   "outputs": [],
   "source": [
    "tasks = [\"frontend\", \"business development\", \"Client Relations\", \"Recruiting\", \"Product Development\"]\n",
    "\n",
    "message_list = []\n",
    "email_count = 0\n",
    "\n",
    "prompt_template = \"\"\"Imagine that you work in a startup named Wall-M and there are many different projects at hand.\n",
    "For a task related to {task}, generate an email thread enacting such a situation between the employees of the startup without naming names.\n",
    "Keep the mails nstructured and refer to recipient as team or all. \n",
    "Use the following template for the email threads for the case of marketing:\n",
    "From: marketing@wall-m.com\n",
    "Sent: Wednesday, May 1, 2024 9:15 AM\n",
    "To: all@wall-m.com\n",
    "Subject: Brainstorming Session for New Marketing Campaign\n",
    "\n",
    "Hey team,\n",
    "\n",
    "We need to kickstart a new marketing campaign to boost our product's visibility. Let's schedule a brainstorming session this Friday to generate some fresh ideas. What times work best for everyone?\n",
    "\n",
    "Cheers\n",
    "\n",
    "From: design@wall-m.com\n",
    "Sent: Wednesday, May 1, 2024 10:30 AM\n",
    "To: marketing@wall-m.com\n",
    "Subject: RE: Brainstorming Session for New Marketing Campaign\n",
    "\n",
    "Hi there,\n",
    "\n",
    "Count me in for the brainstorming session. How about we aim for late morning or early afternoon on Friday?\n",
    "\n",
    "Best\n",
    "From: engineering@wall-m.com\n",
    "Sent: Wednesday, May 1, 2024 11:45 AM\n",
    "To: marketing@wall-m.com, design@wall-m.com\n",
    "Subject: RE: Brainstorming Session for New Marketing Campaign\n",
    "\n",
    "Hey folks,\n",
    "\n",
    "I'll do my best to join in as well. Late morning works better for me. Looking forward to some creative ideas!\n",
    "\n",
    "Cheers,\n",
    "[Your Name]\n",
    "\n",
    "From: marketing@wall-m.com\n",
    "Sent: Friday, May 3, 2024 9:00 AM\n",
    "To: all@wall-m.com\n",
    "Subject: Reminder: Brainstorming Session Today\n",
    "\n",
    "Hi team,\n",
    "\n",
    "Just a reminder that our brainstorming session is happening today. Let's meet in the conference room at 11:00 AM. Bring your creative hats!\n",
    "\n",
    "Thanks\n",
    "\n",
    "From: pr@wall-m.com\n",
    "Sent: Friday, May 3, 2024 10:45 AM\n",
    "To: marketing@wall-m.com\n",
    "Subject: RE: Reminder: Brainstorming Session Today\n",
    "\n",
    "Hi all,\n",
    "\n",
    "Apologies, but I won't be able to make it to the session today. Could someone please share the notes afterward? Looking forward to hearing about the ideas generated.\n",
    "\n",
    "Best\"\"\"\n",
    "\n",
    "for task in tasks:\n",
    "\n",
    "    prompt = prompt_template.format(task=task)\n",
    "    \n",
    "    message = {}\n",
    "    message['email_date'] = random_dates[email_count%len(random_dates)]\n",
    "    message['sender'] = f\"{task.replace(' ', '_').lower()}@wallm.com\"\n",
    "    message['recipient'] = recipients[0]\n",
    "    message['subject'] = f\"Wall-M [{task}]\"\n",
    "    message['email_id'] = email_count\n",
    "\n",
    "    message['text'] = generate_reply(prompt)\n",
    "\n",
    "    #save_mbox(thread, f\"./emails/{topic.replace(' ', '_').lower()}.txt\")\n",
    "\n",
    "    email_count += 1\n",
    "    message_list.append(message)\n",
    "\n",
    "\n",
    "input_dir = Path.cwd() / \"Input\"\n",
    "with open(input_dir / \"work_emails.json\", \"w\") as f:\n",
    "    json.dump(message_list, f, indent=4, default=str)\n",
    "\n",
    "\n"
   ]
  },
  {
   "cell_type": "code",
   "execution_count": 31,
   "metadata": {},
   "outputs": [
    {
     "data": {
      "text/plain": [
       "[{'email_date': datetime.datetime(2024, 5, 1, 16, 43, 41, 941671),\n",
       "  'sender': 'frontend@wallm.com',\n",
       "  'recipient': <COMObject <unknown>>,\n",
       "  'subject': 'Wall-M [frontend]',\n",
       "  'email_id': 0,\n",
       "  'text': 'Hello! How can I assist you with frontend development today?'},\n",
       " {'email_date': datetime.datetime(2024, 5, 2, 1, 44, 53, 941671),\n",
       "  'sender': 'business_development@wallm.com',\n",
       "  'recipient': <COMObject <unknown>>,\n",
       "  'subject': 'Wall-M [business development]',\n",
       "  'email_id': 1,\n",
       "  'text': 'Business development is the process of growing and expanding a business by identifying new opportunities, building relationships, and creating strategies to increase revenue and profits. It involves activities such as market research, lead generation, partnerships, sales and marketing efforts, and strategic planning. The goal of business development is to drive sustainable growth by acquiring new customers, entering new markets, and launching new products or services. It also involves analyzing market trends, competition, and customer needs to make informed decisions that will help the business succeed and thrive in the long term.'},\n",
       " {'email_date': datetime.datetime(2024, 5, 1, 1, 0, 43, 941671),\n",
       "  'sender': 'scheduling_meetings@wallm.com',\n",
       "  'recipient': <COMObject <unknown>>,\n",
       "  'subject': 'Wall-M [scheduling meetings]',\n",
       "  'email_id': 2,\n",
       "  'text': 'Sure, how can I assist you with scheduling meetings?'}]"
      ]
     },
     "execution_count": 31,
     "metadata": {},
     "output_type": "execute_result"
    }
   ],
   "source": [
    "message_list"
   ]
  }
 ],
 "metadata": {
  "kernelspec": {
   "display_name": "adaexam",
   "language": "python",
   "name": "python3"
  },
  "language_info": {
   "codemirror_mode": {
    "name": "ipython",
    "version": 3
   },
   "file_extension": ".py",
   "mimetype": "text/x-python",
   "name": "python",
   "nbconvert_exporter": "python",
   "pygments_lexer": "ipython3",
   "version": "3.10.14"
  }
 },
 "nbformat": 4,
 "nbformat_minor": 2
}
